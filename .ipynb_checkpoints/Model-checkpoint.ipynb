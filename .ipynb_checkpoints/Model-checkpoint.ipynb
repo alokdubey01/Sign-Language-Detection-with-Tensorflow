{
 "cells": [
  {
   "cell_type": "code",
   "execution_count": 1,
   "id": "8f7e57be-9b79-4f1f-9d25-1fd4a1611e65",
   "metadata": {},
   "outputs": [],
   "source": [
    "import cv2\n",
    "import os\n",
    "import time\n",
    "import uuid"
   ]
  },
  {
   "cell_type": "code",
   "execution_count": 2,
   "id": "9896e968-1c88-4c41-a1b0-8e2152c72140",
   "metadata": {},
   "outputs": [],
   "source": [
    "IMAGES_PATH = 'Tensorflow/workspace/images/collectedimages'"
   ]
  },
  {
   "cell_type": "code",
   "execution_count": 3,
   "id": "aa6dc646-acfa-43d2-b9b5-56b25f3b4c50",
   "metadata": {},
   "outputs": [],
   "source": [
    "labels = ['Hello', 'Welcome', 'Thank You', 'Sorry']\n",
    "number_imgs = 5"
   ]
  },
  {
   "cell_type": "code",
   "execution_count": null,
   "id": "98f7d04b-033c-4572-a1b2-b9d0e9827c57",
   "metadata": {},
   "outputs": [],
   "source": [
    "if label in labels:\n",
    "    "
   ]
  }
 ],
 "metadata": {
  "kernelspec": {
   "display_name": "Python 3 (ipykernel)",
   "language": "python",
   "name": "python3"
  },
  "language_info": {
   "codemirror_mode": {
    "name": "ipython",
    "version": 3
   },
   "file_extension": ".py",
   "mimetype": "text/x-python",
   "name": "python",
   "nbconvert_exporter": "python",
   "pygments_lexer": "ipython3",
   "version": "3.10.9"
  }
 },
 "nbformat": 4,
 "nbformat_minor": 5
}
