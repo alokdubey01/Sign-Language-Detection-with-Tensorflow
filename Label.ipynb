{
 "cells": [
  {
   "cell_type": "code",
   "execution_count": 14,
   "id": "60e3bd8f-1ff6-4daa-b854-8f8ec7da8bcb",
   "metadata": {},
   "outputs": [
    {
     "name": "stdout",
     "output_type": "stream",
     "text": [
      "Requirement already satisfied: pyqt5 in c:\\users\\alok7\\dropbox\\desktop\\jupyter\\college\\realtimeobjectdetection\\venv\\lib\\site-packages (5.15.9)\n",
      "Requirement already satisfied: lxml in c:\\users\\alok7\\dropbox\\desktop\\jupyter\\college\\realtimeobjectdetection\\venv\\lib\\site-packages (4.9.3)\n",
      "Requirement already satisfied: PyQt5-sip<13,>=12.11 in c:\\users\\alok7\\dropbox\\desktop\\jupyter\\college\\realtimeobjectdetection\\venv\\lib\\site-packages (from pyqt5) (12.12.2)\n",
      "Requirement already satisfied: PyQt5-Qt5>=5.15.2 in c:\\users\\alok7\\dropbox\\desktop\\jupyter\\college\\realtimeobjectdetection\\venv\\lib\\site-packages (from pyqt5) (5.15.2)\n"
     ]
    },
    {
     "name": "stderr",
     "output_type": "stream",
     "text": [
      "\n",
      "[notice] A new release of pip is available: 23.1.2 -> 23.2.1\n",
      "[notice] To update, run: python.exe -m pip install --upgrade pip\n"
     ]
    }
   ],
   "source": [
    "!pip install --upgrade pyqt5 lxml"
   ]
  },
  {
   "cell_type": "code",
   "execution_count": 15,
   "id": "0f0144b4-d0d9-49ae-870e-30caaccc7ece",
   "metadata": {},
   "outputs": [],
   "source": [
    "import os"
   ]
  },
  {
   "cell_type": "code",
   "execution_count": 16,
   "id": "008e3cd6-3505-4bf3-a599-12c72b154818",
   "metadata": {},
   "outputs": [],
   "source": [
    "LABELIMG_PATH = os.path.join('Tensorflow', 'labelimg')"
   ]
  },
  {
   "cell_type": "code",
   "execution_count": 17,
   "id": "65d656ae-ca53-4e92-b944-b42a61fba4a8",
   "metadata": {},
   "outputs": [],
   "source": [
    "if not os.path.exists(LABELIMG_PATH):\n",
    "    !mkdir {LABELIMG_PATH}\n",
    "    !git clone https://github.com/tzutalin/labelImg {LABELIMG_PATH}"
   ]
  },
  {
   "cell_type": "code",
   "execution_count": 18,
   "id": "e2c39823-ec8a-434a-bd83-5dfbaf6b8fda",
   "metadata": {},
   "outputs": [
    {
     "data": {
      "text/plain": [
       "'Tensorflow\\\\labelimg'"
      ]
     },
     "execution_count": 18,
     "metadata": {},
     "output_type": "execute_result"
    }
   ],
   "source": [
    "LABELIMG_PATH"
   ]
  },
  {
   "cell_type": "code",
   "execution_count": 19,
   "id": "12ed9fc7-fb66-43b6-8664-37a34cbafba3",
   "metadata": {},
   "outputs": [
    {
     "name": "stderr",
     "output_type": "stream",
     "text": [
      "fatal: destination path 'Tensorflow\\labelimg' already exists and is not an empty directory.\n"
     ]
    }
   ],
   "source": [
    "if os.name == 'posix':\n",
    "    !cd {LABELIMG_PATH} !make qt5py3\n",
    "if os.name =='nt':\n",
    "    !git clone https://github.com/tzutalin/labelImg {LABELIMG_PATH}"
   ]
  },
  {
   "cell_type": "code",
   "execution_count": null,
   "id": "ffe478c1-11aa-4d41-885b-167a0da0ff2b",
   "metadata": {},
   "outputs": [],
   "source": [
    "!cd {LABELIMG_PATH} && python labelImg.py"
   ]
  },
  {
   "cell_type": "code",
   "execution_count": null,
   "id": "2c112a00-94b3-4656-a947-64dc07fd9563",
   "metadata": {},
   "outputs": [],
   "source": []
  }
 ],
 "metadata": {
  "kernelspec": {
   "display_name": "Python 3 (ipykernel)",
   "language": "python",
   "name": "python3"
  },
  "language_info": {
   "codemirror_mode": {
    "name": "ipython",
    "version": 3
   },
   "file_extension": ".py",
   "mimetype": "text/x-python",
   "name": "python",
   "nbconvert_exporter": "python",
   "pygments_lexer": "ipython3",
   "version": "3.10.9"
  }
 },
 "nbformat": 4,
 "nbformat_minor": 5
}
